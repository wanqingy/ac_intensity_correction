{
 "cells": [
  {
   "cell_type": "markdown",
   "id": "4ab95576",
   "metadata": {},
   "source": [
    "### Image stack intensity normalization\n",
    "- Read image information (bitdepth)\n",
    "- Intensity correction:\n",
    "    - Gaussian blur (sigma = 400)\n",
    "    - divide the original with the blurred image stack\n",
    "- OpenCV: image normalization function"
   ]
  },
  {
   "cell_type": "code",
   "execution_count": 41,
   "id": "28bd9f0e",
   "metadata": {},
   "outputs": [],
   "source": [
    "import cv2\n",
    "import numpy as np\n",
    "import tifffile\n",
    "import os\n",
    "from scipy.ndimage import gaussian_filter"
   ]
  },
  {
   "cell_type": "code",
   "execution_count": 2,
   "id": "09dec4b7",
   "metadata": {},
   "outputs": [
    {
     "data": {
      "text/plain": [
       "'/Users/wanqing.yu/Documents/GitHub/intensity normalization stitched'"
      ]
     },
     "execution_count": 2,
     "metadata": {},
     "output_type": "execute_result"
    }
   ],
   "source": [
    "os.getcwd()"
   ]
  },
  {
   "cell_type": "code",
   "execution_count": 6,
   "id": "2fe60680",
   "metadata": {
    "scrolled": true
   },
   "outputs": [],
   "source": [
    "# read the source image and get the bit depth; define output location\n",
    "image_src = \"/Users/wanqing.yu/Documents/GitHub/intensity normalization stitched/materialized_tiffs/stack_10_flat_affine.tif\"\n",
    "image_src_test = \"/Users/wanqing.yu/Documents/GitHub/intensity normalization stitched/materialized_tiffs/test_stack0_flat-1.tif\"\n",
    "# # Load the 3D TIFF stack\n",
    "# with tifffile.TiffFile(image_src_test) as tif:\n",
    "#     # Access the TIFF file's BitDepth from metadata\n",
    "#     image_bitDepth = tif.pages[0].tags['BitsPerSample'].value"
   ]
  },
  {
   "cell_type": "code",
   "execution_count": 7,
   "id": "437af180",
   "metadata": {},
   "outputs": [
    {
     "name": "stderr",
     "output_type": "stream",
     "text": [
      "TiffPage 0: TypeError: read_bytes() missing 3 required positional arguments: 'dtype', 'count', and 'offsetsize'\n"
     ]
    },
    {
     "name": "stdout",
     "output_type": "stream",
     "text": [
      "Number of slices: 32\n",
      "Image dimensions: 2000x780\n"
     ]
    }
   ],
   "source": [
    "# Load the 3D TIFF stack\n",
    "stack = tifffile.imread(image_src_test)\n",
    "\n",
    "# 'stack' is now a NumPy array where each element is a 2D image slice\n",
    "# You can access individual slices like stack[0], stack[1], etc.\n",
    "\n",
    "# Get information about the stack dimensions\n",
    "num_slices, height, width = stack.shape\n",
    "print(f\"Number of slices: {num_slices}\")\n",
    "print(f\"Image dimensions: {width}x{height}\")"
   ]
  },
  {
   "cell_type": "code",
   "execution_count": 8,
   "id": "d3bec2dc",
   "metadata": {},
   "outputs": [
    {
     "data": {
      "text/plain": [
       "array([[   0,    0,    0, ...,    0,    0,    0],\n",
       "       [   0,    0,    0, ...,    0,    0,    0],\n",
       "       [   0,    0,    0, ...,    0,    0,    0],\n",
       "       ...,\n",
       "       [   0,    0,    0, ..., 1372, 1682, 2021],\n",
       "       [   0,    0,    0, ..., 1519, 1845, 1948],\n",
       "       [   0,    0,    0, ..., 1893, 2035, 2177]], dtype=uint16)"
      ]
     },
     "execution_count": 8,
     "metadata": {},
     "output_type": "execute_result"
    }
   ],
   "source": [
    "stack[31]"
   ]
  },
  {
   "cell_type": "code",
   "execution_count": null,
   "id": "dd2a48f8-ddf7-4f1f-a865-6e3243436aac",
   "metadata": {},
   "outputs": [],
   "source": []
  },
  {
   "cell_type": "code",
   "execution_count": 30,
   "id": "ae81063e-948c-417f-8bb8-3993481e3605",
   "metadata": {},
   "outputs": [],
   "source": [
    "# 2D Gaussian Blur\n",
    "\n",
    "def intensity_correction_2d(stack, sigma=500, kernel_size=(2005, 2005), epsilon=1e-6):\n",
    "    num_slices = stack.shape[0]\n",
    "    blurred_stack = np.empty_like(stack)\n",
    "    blurred_stack_with_epsilon = np.empty_like(stack, dtype=float)\n",
    "\n",
    "    for i in range(num_slices):\n",
    "        blurred_slice = cv2.GaussianBlur(stack[i], kernel_size, sigma)\n",
    "        blurred_stack[i] = blurred_slice\n",
    "        blurred_stack_with_epsilon[i] = blurred_stack[i].astype(np.float32) + epsilon\n",
    "\n",
    "    result_image = stack.astype(np.float16) / blurred_stack_with_epsilon.astype(np.float16)\n",
    "\n",
    "    return result_image"
   ]
  },
  {
   "cell_type": "code",
   "execution_count": 27,
   "id": "7517c3e7-4cf8-4839-83e4-884319bd44cd",
   "metadata": {},
   "outputs": [
    {
     "name": "stderr",
     "output_type": "stream",
     "text": [
      "/var/folders/w4/p4yxd52x0mb02jrynpfgj3sw0000gr/T/ipykernel_87735/4064032709.py:15: RuntimeWarning: overflow encountered in cast\n",
      "  result_image = stack.astype(np.float16) / blurred_stack_with_epsilon.astype(np.float16)\n"
     ]
    }
   ],
   "source": [
    "result_stack_2d = intensity_correction_2d(stack)\n",
    "tifffile.imsave('intensity_corrected_stack_2d.tif', result_stack_2d)"
   ]
  },
  {
   "cell_type": "code",
   "execution_count": null,
   "id": "4b80e99c-b8e9-4d04-aa8f-be7e20e63940",
   "metadata": {},
   "outputs": [],
   "source": []
  },
  {
   "cell_type": "code",
   "execution_count": 42,
   "id": "e14d3c20-0c44-4c02-83b1-a7f2b3271543",
   "metadata": {},
   "outputs": [],
   "source": [
    "# 3D Gaussian Blur\n",
    "\n",
    "def intensity_correction_3d(stack, sigma=400):\n",
    "    blurred_stack = gaussian_filter(stack, sigma=sigma)\n",
    "    epsilon = 1e-6\n",
    "    result_image = stack.astype(np.float16) / (blurred_stack.astype(np.float16) + epsilon)\n",
    "    return result_image\n",
    "\n",
    "# Example usage for 3D intensity correction:\n",
    "# Assuming your_input_stack is a 3D NumPy array\n",
    "# result_stack_3d = intensity_correction_3d(your_input_stack)\n",
    "# tifffile.imsave('intensity_corrected_stack_3d.tif', result_stack_3d)\n"
   ]
  },
  {
   "cell_type": "code",
   "execution_count": null,
   "id": "1f91a30b-45d9-4bbc-9649-be06fffbe6bc",
   "metadata": {},
   "outputs": [],
   "source": [
    "#sigma = (1000,1000,20)\n",
    "result_stack_3d = intensity_correction_3d(stack)\n",
    "tifffile.imsave('intensity_corrected_stack_3d.tif', result_stack_3d)"
   ]
  }
 ],
 "metadata": {
  "kernelspec": {
   "display_name": "Python 3 (ipykernel)",
   "language": "python",
   "name": "python3"
  },
  "language_info": {
   "codemirror_mode": {
    "name": "ipython",
    "version": 3
   },
   "file_extension": ".py",
   "mimetype": "text/x-python",
   "name": "python",
   "nbconvert_exporter": "python",
   "pygments_lexer": "ipython3",
   "version": "3.10.0"
  }
 },
 "nbformat": 4,
 "nbformat_minor": 5
}
